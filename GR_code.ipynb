{
 "cells": [
  {
   "cell_type": "code",
   "execution_count": 1,
   "metadata": {
    "collapsed": true,
    "pycharm": {
     "is_executing": false
    }
   },
   "outputs": [],
   "source": [
    "#important Library for this calculations\n",
    "import numpy as np\n",
    "import sympy \n",
    "from sympy import *\n",
    "from sympy.matrices import *\n"
   ]
  },
  {
   "cell_type": "code",
   "execution_count": 2,
   "outputs": [
    {
     "data": {
      "text/plain": "\" Instructions for using this code \\nThe users should prepare a spacetime metric first \\n1. specify the spacetime coordinates and the parameters\\n2. use sympy Matrix to write a n-by-b matrix ( n = 4 in 4D case)\\n3. Execute this program : Calculate inverse metric, christoffel's symbol\\n    Riemman Tensor, Ricci Tensor, and Ricci Scalar\\n4. Result: Einstein equation (without stress tensor) \\n\""
     },
     "metadata": {},
     "output_type": "execute_result",
     "execution_count": 2
    }
   ],
   "source": [
    "\"\"\" Instructions for using this code \n",
    "The users should prepare a spacetime metric first \n",
    "1. specify the spacetime coordinates and the parameters\n",
    "2. use sympy Matrix to write a n-by-b matrix ( n = 4 in 4D case)\n",
    "3. Execute this program : Calculate inverse metric, christoffel's symbol\n",
    "    Riemman Tensor, Ricci Tensor, and Ricci Scalar\n",
    "4. Result: Einstein equation (without stress tensor) \n",
    "\"\"\""
   ],
   "metadata": {
    "collapsed": false,
    "pycharm": {
     "name": "#%%\n",
     "is_executing": false
    }
   }
  },
  {
   "cell_type": "code",
   "execution_count": 3,
   "outputs": [
    {
     "data": {
      "text/plain": "Matrix([\n[-1,       0,       0,       0],\n[ 0, a(t)**2,       0,       0],\n[ 0,       0, a(t)**2,       0],\n[ 0,       0,       0, a(t)**2]])",
      "text/latex": "$\\displaystyle \\left[\\begin{matrix}-1 & 0 & 0 & 0\\\\0 & a^{2}{\\left(t \\right)} & 0 & 0\\\\0 & 0 & a^{2}{\\left(t \\right)} & 0\\\\0 & 0 & 0 & a^{2}{\\left(t \\right)}\\end{matrix}\\right]$"
     },
     "metadata": {},
     "output_type": "execute_result",
     "execution_count": 3
    }
   ],
   "source": [
    "#FRW metric for example \n",
    "\n",
    "#dimension\n",
    "dim = 4\n",
    "\n",
    "#parameters\n",
    "t,x,y,z = symbols('t,x y z')\n",
    "\n",
    "#scale factor\n",
    "a = Function(\"a\")\n",
    "\n",
    "#Coordinates : \n",
    "x_i = [t,x,y,z]\n",
    "\n",
    "#Metric \n",
    "g_ij = Matrix((\n",
    "    [-1,0,0,0],\n",
    "    [0,a(t)**2,0,0],\n",
    "    [0,0,a(t)**2,0],\n",
    "    [0,0,0,a(t)**2]\n",
    "))\n",
    "\n",
    "#print(g_ij)\n",
    "g_ij\n"
   ],
   "metadata": {
    "collapsed": false,
    "pycharm": {
     "name": "#%%\n",
     "is_executing": false
    }
   }
  },
  {
   "cell_type": "code",
   "execution_count": 4,
   "outputs": [],
   "source": [
    "\"\"\"Define Multiple functions for calculation of Einstein equations \n",
    "(Without stress energy tensor)\"\"\"\n",
    "\n",
    "\"\"\" Set up 0 matrix to store the data \"\"\"\n",
    "g_ij_inv = np.zeros((dim,dim),dtype = object)\n",
    "Gamma = np.zeros((dim,dim,dim),dtype = object)\n",
    "Riemann = np.zeros((dim,dim,dim,dim),dtype = object)\n",
    "Ricci = np.zeros((dim,dim),dtype = object)\n",
    "\n",
    "\"\"\"Inverse Metric \"\"\"\n",
    "def inv(g_ij,dim):\n",
    "    for i  in range(dim):\n",
    "        for j in range(dim):\n",
    "            g_ij_inv[i,j] = g_ij.inv()[i,j]\n",
    "\n",
    "\"\"\"Christoffel's Symbol\"\"\"\n",
    "def Christoffel_Symbol(dim,x_i,g_ij):\n",
    "    for k in range(0,dim):\n",
    "        for i in range(0,dim):\n",
    "            for j in range(0,dim):\n",
    "                for s in range(0, dim):\n",
    "                    Gamma[k,i,j] = (1/2)*(g_ij_inv[k,s])*( diff(g_ij[i,s],x_i[j]) + diff(g_ij[j,s],x_i[i]) - diff(g_ij[i,j],x_i[s]))\n",
    "                    \n",
    "\n",
    "\"\"\" Riemann Tensor \"\"\"\n",
    "def Riemann_Tensor(dim,x_i,g_ij):\n",
    "    for d in range(0,dim):\n",
    "        for a in range(0,dim):\n",
    "            for b in range(0,dim):\n",
    "                for c in range(0,dim):\n",
    "                    Riemann[d,a,b,c] = diff(Gamma[d,a,c], x_i[b]) - diff(Gamma[d,a,b], x_i[c])\n",
    "                    for e in range(0,dim):\n",
    "                        Riemann[d,a,b,c]  += Gamma[e,a,c] * Gamma[d,b,e] + \\\n",
    "                                             - Gamma[e,a,b] * Gamma[d,c,e]\n",
    "    # return riemann\n",
    "\n",
    "\n",
    "\n",
    "\"\"\" Ricci Tensor \"\"\"\n",
    "def Ricci_Tensor(dim,x_i, g_ij):\n",
    "    for i in range(0,dim):\n",
    "        for j in range(0,dim):\n",
    "            for c in range(0,dim):\n",
    "                Ricci[i,j] = simplify( Riemann[c,i,c,j])\n",
    "    # return ricci\n",
    "\n",
    "\"\"\" Ricci Scalar \"\"\"\n",
    "def Ricci_Scalar(dim,g_ij):\n",
    "    Ricci_scalar = 0\n",
    "    #print(\"Running  Ricci Scalar R ...... \")\n",
    "    for i in range(0,dim):\n",
    "        for j in range(0,dim):\n",
    "            Ricci_scalar += simplify(g_ij_inv[i,j]*Ricci[i,j])\n",
    "    return Ricci_scalar"
   ],
   "metadata": {
    "collapsed": false,
    "pycharm": {
     "name": "#%%\n",
     "is_executing": false
    }
   }
  },
  {
   "cell_type": "code",
   "execution_count": 5,
   "outputs": [
    {
     "name": "stdout",
     "text": [
      "results of Einstein equation (without stress tensor:\n",
      "\n",
      "⎡       2                                                                     \n",
      "⎢      d                                                                      \n",
      "⎢-0.5⋅───(a(t))                                                               \n",
      "⎢       2                                                                     \n",
      "⎢     dt                                                                      \n",
      "⎢───────────────           0                    0                    0        \n",
      "⎢      a(t)                                                                   \n",
      "⎢                                                                             \n",
      "⎢                             2                                               \n",
      "⎢                            d                                                \n",
      "⎢       0         -0.5⋅a(t)⋅───(a(t))           0                    0        \n",
      "⎢                             2                                               \n",
      "⎢                           dt                                                \n",
      "⎢                                                                             \n",
      "⎢                                                  2                          \n",
      "⎢                                                 d                           \n",
      "⎢       0                  0           -0.5⋅a(t)⋅───(a(t))           0        \n",
      "⎢                                                  2                          \n",
      "⎢                                                dt                           \n",
      "⎢                                                                             \n",
      "⎢                                                                       2     \n",
      "⎢                                                                      d      \n",
      "⎢       0                  0                    0           -0.5⋅a(t)⋅───(a(t)\n",
      "⎢                                                                       2     \n",
      "⎣                                                                     dt      \n",
      "\n",
      " ⎤\n",
      " ⎥\n",
      " ⎥\n",
      " ⎥\n",
      " ⎥\n",
      " ⎥\n",
      " ⎥\n",
      " ⎥\n",
      " ⎥\n",
      " ⎥\n",
      " ⎥\n",
      " ⎥\n",
      " ⎥\n",
      " ⎥\n",
      " ⎥\n",
      " ⎥\n",
      " ⎥\n",
      " ⎥\n",
      " ⎥\n",
      " ⎥\n",
      " ⎥\n",
      " ⎥\n",
      ")⎥\n",
      " ⎥\n",
      " ⎦\n"
     ],
     "output_type": "stream"
    }
   ],
   "source": [
    "\"\"\"Einstein Tensor \"\"\"\n",
    "def einstein_eqn(g_ij,dim,x_i):\n",
    "    inv(g_ij,dim)\n",
    "    Christoffel_Symbol(dim,x_i,g_ij)\n",
    "    Riemann_Tensor(dim,x_i,g_ij)\n",
    "    Ricci_Tensor(dim,x_i, g_ij)\n",
    "    G_ij = simplify( Ricci -(0.5)*g_ij*Ricci_Scalar(dim,g_ij))\n",
    "    print(\"results of Einstein equation (without stress tensor:\" + \"\\n\")\n",
    "    pprint(G_ij)\n",
    "\n",
    "    \n",
    "einstein_eqn(g_ij,dim,x_i)"
   ],
   "metadata": {
    "collapsed": false,
    "pycharm": {
     "name": "#%%\n",
     "is_executing": false
    }
   }
  },
  {
   "cell_type": "code",
   "execution_count": 6,
   "outputs": [
    {
     "data": {
      "text/plain": "' This is the end of the calculation'"
     },
     "metadata": {},
     "output_type": "execute_result",
     "execution_count": 6
    }
   ],
   "source": [
    "\"\"\" This is the end of the calculation\"\"\""
   ],
   "metadata": {
    "collapsed": false,
    "pycharm": {
     "name": "#%%\n",
     "is_executing": false
    }
   }
  }
 ],
 "metadata": {
  "kernelspec": {
   "display_name": "Python 3",
   "language": "python",
   "name": "python3"
  },
  "language_info": {
   "codemirror_mode": {
    "name": "ipython",
    "version": 2
   },
   "file_extension": ".py",
   "mimetype": "text/x-python",
   "name": "python",
   "nbconvert_exporter": "python",
   "pygments_lexer": "ipython2",
   "version": "2.7.6"
  },
  "pycharm": {
   "stem_cell": {
    "cell_type": "raw",
    "source": [],
    "metadata": {
     "collapsed": false
    }
   }
  }
 },
 "nbformat": 4,
 "nbformat_minor": 0
}