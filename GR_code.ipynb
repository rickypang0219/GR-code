{
 "cells": [
  {
   "cell_type": "code",
   "execution_count": 1,
   "metadata": {
    "pycharm": {
     "is_executing": false
    }
   },
   "outputs": [],
   "source": [
    "#important Library for this calculations\n",
    "import numpy as np\n",
    "import sympy \n",
    "from sympy import *\n",
    "from sympy.matrices import *\n"
   ]
  },
  {
   "cell_type": "markdown",
   "metadata": {
    "pycharm": {
     "is_executing": false,
     "name": "#%% md\n"
    }
   },
   "source": [
    "\"\"\"Instructions for using this code \n",
    "The users should prepare a spacetime metric first \n",
    "1. specify the spacetime coordinates and the parameters\n",
    "2. use sympy Matrix to write a n-by-b matrix ( n = 4 in 4D case)\n",
    "3. Execute this program : Calculate inverse metric, christoffel's symbol\n",
    "    Riemman Tensor, Ricci Tensor, and Ricci Scalar\n",
    "4. Result: Einstein equation (without stress tensor)\"\"\""
   ]
  },
  {
   "cell_type": "code",
   "execution_count": 2,
   "metadata": {
    "pycharm": {
     "is_executing": false,
     "name": "#%%\n"
    }
   },
   "outputs": [
    {
     "data": {
      "text/latex": [
       "$\\displaystyle \\left[\\begin{matrix}1 & 0 & 0 & 0\\\\0 & - a^{2}{\\left(t \\right)} & 0 & 0\\\\0 & 0 & - a^{2}{\\left(t \\right)} & 0\\\\0 & 0 & 0 & - a^{2}{\\left(t \\right)}\\end{matrix}\\right]$"
      ],
      "text/plain": [
       "Matrix([\n",
       "[1,        0,        0,        0],\n",
       "[0, -a(t)**2,        0,        0],\n",
       "[0,        0, -a(t)**2,        0],\n",
       "[0,        0,        0, -a(t)**2]])"
      ]
     },
     "execution_count": 2,
     "metadata": {},
     "output_type": "execute_result"
    }
   ],
   "source": [
    "#FRW metric for example \n",
    "\n",
    "#dimension\n",
    "dim = 4\n",
    "\n",
    "#parameters\n",
    "t,x,y,z = symbols('t,x y z')\n",
    "\n",
    "#scale factor\n",
    "a = Function(\"a\")\n",
    "\n",
    "#Coordinates : \n",
    "x_i = [t,x,y,z]\n",
    "\n",
    "#Metric \n",
    "g_ij = Matrix((\n",
    "    [1,0,0,0],\n",
    "    [0,-a(t)**2,0,0],\n",
    "    [0,0,-a(t)**2,0],\n",
    "    [0,0,0,-a(t)**2]\n",
    "))\n",
    "\n",
    "#print(g_ij)\n",
    "g_ij\n"
   ]
  },
  {
   "cell_type": "code",
   "execution_count": 11,
   "metadata": {
    "pycharm": {
     "is_executing": false,
     "name": "#%%\n"
    }
   },
   "outputs": [],
   "source": [
    "\"\"\"Define Multiple functions for calculation of Einstein equations \n",
    "(Without stress energy tensor)\"\"\"\n",
    "\n",
    "\"\"\" Set up 0 matrix to store the data \"\"\"\n",
    "g_ij_inv = np.zeros((dim,dim),dtype = object)\n",
    "Gamma = np.zeros((dim,dim,dim),dtype = object)\n",
    "Riemann = np.zeros((dim,dim,dim,dim),dtype = object)\n",
    "Ricci = np.zeros((dim,dim),dtype = object)\n",
    "\n",
    "\"\"\"Inverse Metric \"\"\"\n",
    "def inv(g_ij,dim):\n",
    "    for i  in range(dim):\n",
    "        for j in range(dim):\n",
    "            g_ij_inv[i,j] = g_ij.inv()[i,j]\n",
    "\n",
    "\"\"\"Christoffel's Symbol\"\"\"\n",
    "def Christoffel_Symbol(dim,x_i,g_ij):\n",
    "    for k in range(0,dim):\n",
    "        for i in range(0,dim):\n",
    "            for j in range(0,dim):\n",
    "                Gamma[k,i,j] = 0 \n",
    "                for s in range(0, dim):\n",
    "                    Gamma[k,i,j] += (1/2)*(g_ij_inv[k,s])*( diff(g_ij[i,s],x_i[j]) + diff(g_ij[j,s],x_i[i]) - diff(g_ij[i,j],x_i[s]))\n",
    "                    \n",
    "\n",
    "\"\"\" Riemann Tensor \"\"\"\n",
    "def Riemann_Tensor(dim,x_i,g_ij):\n",
    "    for d in range(0,dim):\n",
    "        for a in range(0,dim):\n",
    "            for b in range(0,dim):\n",
    "                for c in range(0,dim):\n",
    "                    Riemann[d,a,b,c] = diff(Gamma[d,a,c], x_i[b]) - diff(Gamma[d,a,b], x_i[c])\n",
    "                    for e in range(0,dim):\n",
    "                        Riemann[d,a,b,c]  += Gamma[e,a,c] * Gamma[d,b,e] + \\\n",
    "                                             - Gamma[e,a,b] * Gamma[d,c,e]\n",
    "    # return riemann\n",
    "\n",
    "\n",
    "\n",
    "\"\"\" Ricci Tensor \"\"\"\n",
    "def Ricci_Tensor(dim,x_i, g_ij):\n",
    "    for i in range(0,dim):\n",
    "        for j in range(0,dim):\n",
    "            Ricci[i,j] = 0\n",
    "            for c in range(0,dim):\n",
    "                Ricci[i,j] += simplify( Riemann[c,i,c,j])\n",
    "    # return ricci\n",
    "\n",
    "\"\"\" Ricci Scalar \"\"\"\n",
    "def Ricci_Scalar(dim,g_ij):\n",
    "    Ricci_scalar = 0\n",
    "    #print(\"Running  Ricci Scalar R ...... \")\n",
    "    for i in range(0,dim):\n",
    "        for j in range(0,dim):\n",
    "            Ricci_scalar += simplify(g_ij_inv[i,j]*Ricci[i,j])\n",
    "    return Ricci_scalar"
   ]
  },
  {
   "cell_type": "code",
   "execution_count": 12,
   "metadata": {
    "pycharm": {
     "is_executing": false,
     "name": "#%%\n"
    }
   },
   "outputs": [
    {
     "name": "stdout",
     "output_type": "stream",
     "text": [
      "results of Einstein equation (without stress tensor G_{μ ν} =\n",
      "\n",
      "⎡              2                                                              \n",
      "⎢    ⎛d       ⎞                                                               \n",
      "⎢3.0⋅⎜──(a(t))⎟                                                               \n",
      "⎢    ⎝dt      ⎠                                                               \n",
      "⎢───────────────                    0                                       0 \n",
      "⎢      2                                                                      \n",
      "⎢     a (t)                                                                   \n",
      "⎢                                                                             \n",
      "⎢                              2                       2                      \n",
      "⎢                             d              ⎛d       ⎞                       \n",
      "⎢       0         - 2.0⋅a(t)⋅───(a(t)) - 1.0⋅⎜──(a(t))⎟                     0 \n",
      "⎢                              2             ⎝dt      ⎠                       \n",
      "⎢                            dt                                               \n",
      "⎢                                                                             \n",
      "⎢                                                                      2      \n",
      "⎢                                                                     d       \n",
      "⎢       0                           0                     - 2.0⋅a(t)⋅───(a(t))\n",
      "⎢                                                                      2      \n",
      "⎢                                                                    dt       \n",
      "⎢                                                                             \n",
      "⎢                                                                             \n",
      "⎢                                                                             \n",
      "⎢       0                           0                                       0 \n",
      "⎢                                                                             \n",
      "⎣                                                                             \n",
      "\n",
      "                                                          ⎤\n",
      "                                                          ⎥\n",
      "                                                          ⎥\n",
      "                                                          ⎥\n",
      "                                      0                   ⎥\n",
      "                                                          ⎥\n",
      "                                                          ⎥\n",
      "                                                          ⎥\n",
      "                                                          ⎥\n",
      "                                                          ⎥\n",
      "                                      0                   ⎥\n",
      "                                                          ⎥\n",
      "                                                          ⎥\n",
      "                                                          ⎥\n",
      "                 2                                        ⎥\n",
      "       ⎛d       ⎞                                         ⎥\n",
      " - 1.0⋅⎜──(a(t))⎟                     0                   ⎥\n",
      "       ⎝dt      ⎠                                         ⎥\n",
      "                                                          ⎥\n",
      "                                                          ⎥\n",
      "                                 2                       2⎥\n",
      "                                d              ⎛d       ⎞ ⎥\n",
      "                    - 2.0⋅a(t)⋅───(a(t)) - 1.0⋅⎜──(a(t))⎟ ⎥\n",
      "                                 2             ⎝dt      ⎠ ⎥\n",
      "                               dt                         ⎦\n"
     ]
    }
   ],
   "source": [
    "\"\"\"Einstein Tensor \"\"\"\n",
    "def einstein_eqn(g_ij,dim,x_i):\n",
    "    inv(g_ij,dim)\n",
    "    Christoffel_Symbol(dim,x_i,g_ij)\n",
    "    Riemann_Tensor(dim,x_i,g_ij)\n",
    "    Ricci_Tensor(dim,x_i, g_ij)\n",
    "    G_ij = simplify( Ricci -(0.5)*g_ij*Ricci_Scalar(dim,g_ij))\n",
    "    print(\"results of Einstein equation (without stress tensor G_{\\u03BC \\u03BD} =\" + \"\\n\")\n",
    "    pprint(G_ij)\n",
    "\n",
    "    \n",
    "einstein_eqn(g_ij,dim,x_i)"
   ]
  },
  {
   "cell_type": "code",
   "execution_count": 9,
   "metadata": {},
   "outputs": [
    {
     "data": {
      "text/plain": [
       "array([[1, 0, 0, 0],\n",
       "       [0, -1/a(t)**2, 0, 0],\n",
       "       [0, 0, -1/a(t)**2, 0],\n",
       "       [0, 0, 0, -1/a(t)**2]], dtype=object)"
      ]
     },
     "execution_count": 9,
     "metadata": {},
     "output_type": "execute_result"
    }
   ],
   "source": [
    "g_ij_inv[:,:]"
   ]
  },
  {
   "cell_type": "code",
   "execution_count": 6,
   "metadata": {
    "pycharm": {
     "is_executing": false,
     "name": "#%% \n"
    }
   },
   "outputs": [
    {
     "data": {
      "text/plain": [
       "' This is the end of the calculation'"
      ]
     },
     "execution_count": 6,
     "metadata": {},
     "output_type": "execute_result"
    }
   ],
   "source": [
    "\"\"\" This is the end of the calculation\"\"\"\n",
    "\n",
    "\n"
   ]
  },
  {
   "cell_type": "code",
   "execution_count": null,
   "metadata": {},
   "outputs": [],
   "source": []
  }
 ],
 "metadata": {
  "kernelspec": {
   "display_name": "Python 3",
   "language": "python",
   "name": "python3"
  },
  "language_info": {
   "codemirror_mode": {
    "name": "ipython",
    "version": 3
   },
   "file_extension": ".py",
   "mimetype": "text/x-python",
   "name": "python",
   "nbconvert_exporter": "python",
   "pygments_lexer": "ipython3",
   "version": "3.7.3"
  },
  "pycharm": {
   "stem_cell": {
    "cell_type": "raw",
    "metadata": {
     "collapsed": false
    },
    "source": []
   }
  }
 },
 "nbformat": 4,
 "nbformat_minor": 1
}
